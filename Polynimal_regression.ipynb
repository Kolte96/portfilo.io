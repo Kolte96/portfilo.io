{
 "cells": [
  {
   "cell_type": "code",
   "execution_count": 1,
   "id": "86ed4f51",
   "metadata": {},
   "outputs": [],
   "source": [
    "import numpy as np \n",
    "import pandas as pd\n",
    "import matplotlib.pyplot as plt\n",
    "import seaborn as sns\n",
    "%matplotlib inline"
   ]
  },
  {
   "cell_type": "code",
   "execution_count": 47,
   "id": "42f9468e",
   "metadata": {},
   "outputs": [],
   "source": [
    "df=pd.read_excel(\"Salaries.xlsx\")"
   ]
  },
  {
   "cell_type": "code",
   "execution_count": 48,
   "id": "0f48032f",
   "metadata": {},
   "outputs": [
    {
     "data": {
      "text/html": [
       "<div>\n",
       "<style scoped>\n",
       "    .dataframe tbody tr th:only-of-type {\n",
       "        vertical-align: middle;\n",
       "    }\n",
       "\n",
       "    .dataframe tbody tr th {\n",
       "        vertical-align: top;\n",
       "    }\n",
       "\n",
       "    .dataframe thead th {\n",
       "        text-align: right;\n",
       "    }\n",
       "</style>\n",
       "<table border=\"1\" class=\"dataframe\">\n",
       "  <thead>\n",
       "    <tr style=\"text-align: right;\">\n",
       "      <th></th>\n",
       "      <th>Position</th>\n",
       "      <th>Level</th>\n",
       "      <th>Salary</th>\n",
       "    </tr>\n",
       "  </thead>\n",
       "  <tbody>\n",
       "    <tr>\n",
       "      <th>0</th>\n",
       "      <td>Business Analyst</td>\n",
       "      <td>1</td>\n",
       "      <td>45000</td>\n",
       "    </tr>\n",
       "    <tr>\n",
       "      <th>1</th>\n",
       "      <td>Junior Consultant</td>\n",
       "      <td>2</td>\n",
       "      <td>50000</td>\n",
       "    </tr>\n",
       "    <tr>\n",
       "      <th>2</th>\n",
       "      <td>Senior Consultant</td>\n",
       "      <td>3</td>\n",
       "      <td>60000</td>\n",
       "    </tr>\n",
       "    <tr>\n",
       "      <th>3</th>\n",
       "      <td>Manager</td>\n",
       "      <td>4</td>\n",
       "      <td>80000</td>\n",
       "    </tr>\n",
       "    <tr>\n",
       "      <th>4</th>\n",
       "      <td>Country Manager</td>\n",
       "      <td>5</td>\n",
       "      <td>110000</td>\n",
       "    </tr>\n",
       "  </tbody>\n",
       "</table>\n",
       "</div>"
      ],
      "text/plain": [
       "            Position  Level  Salary\n",
       "0   Business Analyst      1   45000\n",
       "1  Junior Consultant      2   50000\n",
       "2  Senior Consultant      3   60000\n",
       "3            Manager      4   80000\n",
       "4    Country Manager      5  110000"
      ]
     },
     "execution_count": 48,
     "metadata": {},
     "output_type": "execute_result"
    }
   ],
   "source": [
    "df.head()"
   ]
  },
  {
   "cell_type": "code",
   "execution_count": 49,
   "id": "df17a1b5",
   "metadata": {},
   "outputs": [
    {
     "data": {
      "text/plain": [
       "[<matplotlib.lines.Line2D at 0x178b2c1b2b0>]"
      ]
     },
     "execution_count": 49,
     "metadata": {},
     "output_type": "execute_result"
    },
    {
     "data": {
      "image/png": "[encoded data removed]",
      "text/plain": [
       "<Figure size 432x288 with 1 Axes>"
      ]
     },
     "metadata": {
      "needs_background": "light"
     },
     "output_type": "display_data"
    }
   ],
   "source": [
    "plt.plot(df['Level'],df['Salary'])"
   ]
  },
  {
   "cell_type": "code",
   "execution_count": 50,
   "id": "c013d628",
   "metadata": {},
   "outputs": [
    {
     "data": {
      "text/plain": [
       "array([[ 1],\n",
       "       [ 2],\n",
       "       [ 3],\n",
       "       [ 4],\n",
       "       [ 5],\n",
       "       [ 6],\n",
       "       [ 7],\n",
       "       [ 8],\n",
       "       [ 9],\n",
       "       [10]], dtype=int64)"
      ]
     },
     "execution_count": 50,
     "metadata": {},
     "output_type": "execute_result"
    }
   ],
   "source": [
    "X=df[['Level']].values\n",
    "X"
   ]
  },
  {
   "cell_type": "code",
   "execution_count": 51,
   "id": "62577b95",
   "metadata": {},
   "outputs": [
    {
     "data": {
      "text/plain": [
       "array([[  45000],\n",
       "       [  50000],\n",
       "       [  60000],\n",
       "       [  80000],\n",
       "       [ 110000],\n",
       "       [ 150000],\n",
       "       [ 200000],\n",
       "       [ 300000],\n",
       "       [ 500000],\n",
       "       [1000000]], dtype=int64)"
      ]
     },
     "execution_count": 51,
     "metadata": {},
     "output_type": "execute_result"
    }
   ],
   "source": [
    "Y=df[['Salary']].values\n",
    "Y"
   ]
  },
  {
   "cell_type": "code",
   "execution_count": 52,
   "id": "9954ab92",
   "metadata": {},
   "outputs": [
    {
     "data": {
      "text/plain": [
       "LinearRegression()"
      ]
     },
     "execution_count": 52,
     "metadata": {},
     "output_type": "execute_result"
    }
   ],
   "source": [
    "from sklearn.linear_model import LinearRegression\n",
    "regression= LinearRegression()\n",
    "regression.fit(X,Y)"
   ]
  },
  {
   "cell_type": "code",
   "execution_count": 53,
   "id": "a3fb72da",
   "metadata": {},
   "outputs": [
    {
     "data": {
      "text/plain": [
       "0.6690412331929895"
      ]
     },
     "execution_count": 53,
     "metadata": {},
     "output_type": "execute_result"
    }
   ],
   "source": [
    "regression.score(X,Y)"
   ]
  },
  {
   "cell_type": "code",
   "execution_count": 54,
   "id": "30dcd95e",
   "metadata": {},
   "outputs": [
    {
     "data": {
      "text/plain": [
       "array([[-114454.54545455],\n",
       "       [ -33575.75757576],\n",
       "       [  47303.03030303],\n",
       "       [ 128181.81818182],\n",
       "       [ 209060.60606061],\n",
       "       [ 289939.39393939],\n",
       "       [ 370818.18181818],\n",
       "       [ 451696.96969697],\n",
       "       [ 532575.75757576],\n",
       "       [ 613454.54545455]])"
      ]
     },
     "execution_count": 54,
     "metadata": {},
     "output_type": "execute_result"
    }
   ],
   "source": [
    "pred=regression.predict(X)\n",
    "pred"
   ]
  },
  {
   "cell_type": "code",
   "execution_count": 55,
   "id": "409e5fb2",
   "metadata": {},
   "outputs": [
    {
     "name": "stderr",
     "output_type": "stream",
     "text": [
      "No handles with labels found to put in legend.\n"
     ]
    },
    {
     "data": {
      "text/plain": [
       "<matplotlib.legend.Legend at 0x178b2c3c730>"
      ]
     },
     "execution_count": 55,
     "metadata": {},
     "output_type": "execute_result"
    },
    {
     "data": {
      "image/png": "[encoded data removed]",
      "text/plain": [
       "<Figure size 780x520 with 1 Axes>"
      ]
     },
     "metadata": {
      "needs_background": "light"
     },
     "output_type": "display_data"
    }
   ],
   "source": [
    "plt.figure(dpi=130)\n",
    "plt.title('Linear regression')\n",
    "plt.xlabel('Salary')\n",
    "plt.ylabel('position')\n",
    "plt.plot(X,Y,'ob','green');\n",
    "plt.plot(X,pred,'red')\n",
    "plt.legend()"
   ]
  },
  {
   "cell_type": "code",
   "execution_count": null,
   "id": "1a21a0a4",
   "metadata": {},
   "outputs": [],
   "source": []
  },
  {
   "cell_type": "code",
   "execution_count": 56,
   "id": "e8ef1d78",
   "metadata": {},
   "outputs": [
    {
     "name": "stdout",
     "output_type": "stream",
     "text": [
      "PolynomialFeatures()\n"
     ]
    }
   ],
   "source": [
    "#introducing higher degrees\n",
    "#degree=2\n",
    "from sklearn.preprocessing import PolynomialFeatures\n",
    "poly=PolynomialFeatures(degree=2)\n",
    "X_poly=poly.fit_transform(X)\n",
    "X_poly\n",
    "print(poly)"
   ]
  },
  {
   "cell_type": "code",
   "execution_count": 57,
   "id": "fce4fc9c",
   "metadata": {},
   "outputs": [
    {
     "data": {
      "text/plain": [
       "array([[  1.,   1.,   1.],\n",
       "       [  1.,   2.,   4.],\n",
       "       [  1.,   3.,   9.],\n",
       "       [  1.,   4.,  16.],\n",
       "       [  1.,   5.,  25.],\n",
       "       [  1.,   6.,  36.],\n",
       "       [  1.,   7.,  49.],\n",
       "       [  1.,   8.,  64.],\n",
       "       [  1.,   9.,  81.],\n",
       "       [  1.,  10., 100.]])"
      ]
     },
     "execution_count": 57,
     "metadata": {},
     "output_type": "execute_result"
    }
   ],
   "source": [
    "X_poly"
   ]
  },
  {
   "cell_type": "code",
   "execution_count": 58,
   "id": "6a3571cd",
   "metadata": {},
   "outputs": [
    {
     "data": {
      "text/plain": [
       "LinearRegression()"
      ]
     },
     "execution_count": 58,
     "metadata": {},
     "output_type": "execute_result"
    }
   ],
   "source": [
    "poly_regression2=LinearRegression()\n",
    "poly_regression2.fit(X_poly,Y)"
   ]
  },
  {
   "cell_type": "code",
   "execution_count": 59,
   "id": "0a23a756",
   "metadata": {},
   "outputs": [
    {
     "data": {
      "text/plain": [
       "0.9162082221443943"
      ]
     },
     "execution_count": 59,
     "metadata": {},
     "output_type": "execute_result"
    }
   ],
   "source": [
    "poly_regression2.score(X_poly,Y)"
   ]
  },
  {
   "cell_type": "code",
   "execution_count": 60,
   "id": "857396d7",
   "metadata": {},
   "outputs": [
    {
     "data": {
      "text/plain": [
       "array([[118727.27272727],\n",
       "       [ 44151.51515152],\n",
       "       [  8439.39393939],\n",
       "       [ 11590.90909091],\n",
       "       [ 53606.06060606],\n",
       "       [134484.84848485],\n",
       "       [254227.27272727],\n",
       "       [412833.33333333],\n",
       "       [610303.03030303],\n",
       "       [846636.36363636]])"
      ]
     },
     "execution_count": 60,
     "metadata": {},
     "output_type": "execute_result"
    }
   ],
   "source": [
    "pred2=poly_regression2.predict(X_poly)\n",
    "pred2"
   ]
  },
  {
   "cell_type": "code",
   "execution_count": 61,
   "id": "5ec24165",
   "metadata": {},
   "outputs": [
    {
     "data": {
      "text/plain": [
       "[<matplotlib.lines.Line2D at 0x178b2cb8c40>]"
      ]
     },
     "execution_count": 61,
     "metadata": {},
     "output_type": "execute_result"
    },
    {
     "data": {
      "image/png": "[encoded data removed]",
      "text/plain": [
       "<Figure size 600x400 with 1 Axes>"
      ]
     },
     "metadata": {
      "needs_background": "light"
     },
     "output_type": "display_data"
    }
   ],
   "source": [
    "plt.figure(dpi=100)\n",
    "#plt.Xlabel(\"Salary\")\n",
    "plt.title('Linear regression')\n",
    "plt.xlabel('Salary')\n",
    "plt.ylabel('Position')\n",
    "plt.plot(X,Y,'ob')\n",
    "plt.plot(X,pred,'red')\n",
    "plt.plot(X,pred2,'orange')\n"
   ]
  },
  {
   "cell_type": "code",
   "execution_count": 66,
   "id": "bb2cf781",
   "metadata": {},
   "outputs": [
    {
     "name": "stdout",
     "output_type": "stream",
     "text": [
      "PolynomialFeatures(degree=3)\n"
     ]
    }
   ],
   "source": [
    "#degree=3\n",
    "from sklearn.preprocessing import PolynomialFeatures\n",
    "poly=PolynomialFeatures(degree=3)\n",
    "X_poly2=poly.fit_transform(X)\n",
    "X_poly2\n",
    "print(poly)"
   ]
  },
  {
   "cell_type": "code",
   "execution_count": 67,
   "id": "28e35c35",
   "metadata": {},
   "outputs": [
    {
     "data": {
      "text/plain": [
       "array([[   1.,    1.,    1.,    1.],\n",
       "       [   1.,    2.,    4.,    8.],\n",
       "       [   1.,    3.,    9.,   27.],\n",
       "       [   1.,    4.,   16.,   64.],\n",
       "       [   1.,    5.,   25.,  125.],\n",
       "       [   1.,    6.,   36.,  216.],\n",
       "       [   1.,    7.,   49.,  343.],\n",
       "       [   1.,    8.,   64.,  512.],\n",
       "       [   1.,    9.,   81.,  729.],\n",
       "       [   1.,   10.,  100., 1000.]])"
      ]
     },
     "execution_count": 67,
     "metadata": {},
     "output_type": "execute_result"
    }
   ],
   "source": [
    "X_poly2"
   ]
  },
  {
   "cell_type": "code",
   "execution_count": 68,
   "id": "08e6e726",
   "metadata": {},
   "outputs": [
    {
     "name": "stdout",
     "output_type": "stream",
     "text": [
      "0.9812097727913367\n"
     ]
    },
    {
     "data": {
      "text/plain": [
       "array([[ 14902.09790211],\n",
       "       [ 78759.90675991],\n",
       "       [ 94960.37296037],\n",
       "       [ 88223.77622377],\n",
       "       [ 83270.3962704 ],\n",
       "       [104820.51282051],\n",
       "       [177594.40559441],\n",
       "       [326312.35431236],\n",
       "       [575694.63869464],\n",
       "       [950461.53846153]])"
      ]
     },
     "execution_count": 68,
     "metadata": {},
     "output_type": "execute_result"
    }
   ],
   "source": [
    "poly_regression3=LinearRegression()\n",
    "poly_regression3.fit(X_poly2,Y)\n",
    "print(poly_regression3.score(X_poly2,Y))\n",
    "pred3=poly_regression3.predict(X_poly2)\n",
    "pred3"
   ]
  },
  {
   "cell_type": "code",
   "execution_count": 69,
   "id": "c26af20e",
   "metadata": {},
   "outputs": [
    {
     "data": {
      "text/plain": [
       "[<matplotlib.lines.Line2D at 0x178b2d77df0>]"
      ]
     },
     "execution_count": 69,
     "metadata": {},
     "output_type": "execute_result"
    },
    {
     "data": {
      "image/png": "[encoded data removed]",
      "text/plain": [
       "<Figure size 600x400 with 1 Axes>"
      ]
     },
     "metadata": {
      "needs_background": "light"
     },
     "output_type": "display_data"
    }
   ],
   "source": [
    "plt.figure(dpi=100)\n",
    "#plt.Xlabel(\"Salary\")\n",
    "plt.title('Linear regression')\n",
    "plt.xlabel('Salary')\n",
    "plt.ylabel('Position')\n",
    "plt.plot(X,Y,'ob')\n",
    "plt.plot(X,pred,'red')\n",
    "plt.plot(X,pred2,'orange')\n",
    "plt.plot(X,pred3,'gray')"
   ]
  },
  {
   "cell_type": "code",
   "execution_count": 70,
   "id": "2e5029d3",
   "metadata": {},
   "outputs": [
    {
     "name": "stdout",
     "output_type": "stream",
     "text": [
      "PolynomialFeatures(degree=4)\n"
     ]
    },
    {
     "data": {
      "text/plain": [
       "array([[1.000e+00, 1.000e+00, 1.000e+00, 1.000e+00, 1.000e+00],\n",
       "       [1.000e+00, 2.000e+00, 4.000e+00, 8.000e+00, 1.600e+01],\n",
       "       [1.000e+00, 3.000e+00, 9.000e+00, 2.700e+01, 8.100e+01],\n",
       "       [1.000e+00, 4.000e+00, 1.600e+01, 6.400e+01, 2.560e+02],\n",
       "       [1.000e+00, 5.000e+00, 2.500e+01, 1.250e+02, 6.250e+02],\n",
       "       [1.000e+00, 6.000e+00, 3.600e+01, 2.160e+02, 1.296e+03],\n",
       "       [1.000e+00, 7.000e+00, 4.900e+01, 3.430e+02, 2.401e+03],\n",
       "       [1.000e+00, 8.000e+00, 6.400e+01, 5.120e+02, 4.096e+03],\n",
       "       [1.000e+00, 9.000e+00, 8.100e+01, 7.290e+02, 6.561e+03],\n",
       "       [1.000e+00, 1.000e+01, 1.000e+02, 1.000e+03, 1.000e+04]])"
      ]
     },
     "execution_count": 70,
     "metadata": {},
     "output_type": "execute_result"
    }
   ],
   "source": [
    "#introducing variables with degree=4\n",
    "#introducing higher degrees\n",
    "from sklearn.preprocessing import PolynomialFeatures\n",
    "poly=PolynomialFeatures(degree=4)\n",
    "X_poly3=poly.fit_transform(X)\n",
    "print(poly)\n",
    "X_poly3"
   ]
  },
  {
   "cell_type": "code",
   "execution_count": 75,
   "id": "7b8c935a",
   "metadata": {},
   "outputs": [
    {
     "name": "stdout",
     "output_type": "stream",
     "text": [
      "0.9973922891706614\n"
     ]
    },
    {
     "data": {
      "text/plain": [
       "array([[ 53356.64335681],\n",
       "       [ 31759.90675996],\n",
       "       [ 58642.19114222],\n",
       "       [ 94632.8671329 ],\n",
       "       [121724.94172498],\n",
       "       [143275.05827508],\n",
       "       [184003.49650349],\n",
       "       [289994.17249411],\n",
       "       [528694.63869452],\n",
       "       [988916.08391593]])"
      ]
     },
     "execution_count": 75,
     "metadata": {},
     "output_type": "execute_result"
    }
   ],
   "source": [
    "poly_regression4=LinearRegression()\n",
    "poly_regression4.fit(X_poly3,Y)\n",
    "print(poly_regression4.score(X_poly3,Y))\n",
    "pred4=poly_regression4.predict(X_poly3)\n",
    "pred4"
   ]
  },
  {
   "cell_type": "code",
   "execution_count": 77,
   "id": "05a7b943",
   "metadata": {},
   "outputs": [
    {
     "data": {
      "text/plain": [
       "[<matplotlib.lines.Line2D at 0x178b4084e80>]"
      ]
     },
     "execution_count": 77,
     "metadata": {},
     "output_type": "execute_result"
    },
    {
     "data": {
      "image/png": "[encoded data removed]",
      "text/plain": [
       "<Figure size 600x400 with 1 Axes>"
      ]
     },
     "metadata": {
      "needs_background": "light"
     },
     "output_type": "display_data"
    }
   ],
   "source": [
    "plt.figure(dpi=100)\n",
    "#plt.Xlabel(\"Salary\")\n",
    "plt.title('Linear regression')\n",
    "plt.xlabel('Salary')\n",
    "plt.ylabel('Position')\n",
    "plt.plot(X,Y,'ob')\n",
    "plt.plot(X,pred,'red')\n",
    "plt.plot(X,pred2,'orange')\n",
    "plt.plot(X,pred3,'yellow')\n",
    "plt.plot(X,pred4,'skyblue')"
   ]
  },
  {
   "cell_type": "code",
   "execution_count": 79,
   "id": "af597c72",
   "metadata": {},
   "outputs": [
    {
     "name": "stdout",
     "output_type": "stream",
     "text": [
      "PolynomialFeatures(degree=5)\n"
     ]
    },
    {
     "data": {
      "text/plain": [
       "array([[1.0000e+00, 1.0000e+00, 1.0000e+00, 1.0000e+00, 1.0000e+00,\n",
       "        1.0000e+00],\n",
       "       [1.0000e+00, 2.0000e+00, 4.0000e+00, 8.0000e+00, 1.6000e+01,\n",
       "        3.2000e+01],\n",
       "       [1.0000e+00, 3.0000e+00, 9.0000e+00, 2.7000e+01, 8.1000e+01,\n",
       "        2.4300e+02],\n",
       "       [1.0000e+00, 4.0000e+00, 1.6000e+01, 6.4000e+01, 2.5600e+02,\n",
       "        1.0240e+03],\n",
       "       [1.0000e+00, 5.0000e+00, 2.5000e+01, 1.2500e+02, 6.2500e+02,\n",
       "        3.1250e+03],\n",
       "       [1.0000e+00, 6.0000e+00, 3.6000e+01, 2.1600e+02, 1.2960e+03,\n",
       "        7.7760e+03],\n",
       "       [1.0000e+00, 7.0000e+00, 4.9000e+01, 3.4300e+02, 2.4010e+03,\n",
       "        1.6807e+04],\n",
       "       [1.0000e+00, 8.0000e+00, 6.4000e+01, 5.1200e+02, 4.0960e+03,\n",
       "        3.2768e+04],\n",
       "       [1.0000e+00, 9.0000e+00, 8.1000e+01, 7.2900e+02, 6.5610e+03,\n",
       "        5.9049e+04],\n",
       "       [1.0000e+00, 1.0000e+01, 1.0000e+02, 1.0000e+03, 1.0000e+04,\n",
       "        1.0000e+05]])"
      ]
     },
     "execution_count": 79,
     "metadata": {},
     "output_type": "execute_result"
    }
   ],
   "source": [
    "#5#introducing higher degrees\n",
    "from sklearn.preprocessing import PolynomialFeatures\n",
    "poly=PolynomialFeatures(degree=5)\n",
    "X_poly4=poly.fit_transform(X)\n",
    "print(poly)\n",
    "X_poly4\n"
   ]
  },
  {
   "cell_type": "code",
   "execution_count": 82,
   "id": "140d58d3",
   "metadata": {},
   "outputs": [
    {
     "name": "stdout",
     "output_type": "stream",
     "text": [
      "0.9997969027099755\n"
     ]
    },
    {
     "data": {
      "text/plain": [
       "array([[ 43895.10489581],\n",
       "       [ 53836.82983727],\n",
       "       [ 57065.26806545],\n",
       "       [ 77286.71328669],\n",
       "       [112263.40326324],\n",
       "       [152736.59673637],\n",
       "       [201349.6503494 ],\n",
       "       [291571.09557084],\n",
       "       [506617.71561748],\n",
       "       [998377.62237746]])"
      ]
     },
     "execution_count": 82,
     "metadata": {},
     "output_type": "execute_result"
    }
   ],
   "source": [
    "poly_regression5=LinearRegression()\n",
    "poly_regression5.fit(X_poly4,Y)\n",
    "print(poly_regression5.score(X_poly4,Y))\n",
    "pred5=poly_regression5.predict(X_poly4)\n",
    "pred5"
   ]
  },
  {
   "cell_type": "code",
   "execution_count": 84,
   "id": "ffc24bc1",
   "metadata": {},
   "outputs": [
    {
     "data": {
      "text/plain": [
       "<module 'matplotlib.pyplot' from 'C:\\\\Users\\\\Gauri\\\\anaconda3\\\\lib\\\\site-packages\\\\matplotlib\\\\pyplot.py'>"
      ]
     },
     "execution_count": 84,
     "metadata": {},
     "output_type": "execute_result"
    },
    {
     "data": {
      "image/png": "[encoded data removed]",
      "text/plain": [
       "<Figure size 600x400 with 1 Axes>"
      ]
     },
     "metadata": {
      "needs_background": "light"
     },
     "output_type": "display_data"
    }
   ],
   "source": [
    "\n",
    "plt.figure(dpi=100)\n",
    "#plt.Xlabel(\"Salary\")\n",
    "plt.title('Linear regression')\n",
    "plt.xlabel('Salary')\n",
    "plt.ylabel('Position')\n",
    "plt.plot(X,Y,'ob')\n",
    "plt.plot(X,pred,'red')\n",
    "plt.plot(X,pred2,'orange')\n",
    "plt.plot(X,pred3,'yellow')\n",
    "plt.plot(X,pred4,'skyblue')\n",
    "plt.plot(X,pred5,'green')\n",
    "plt"
   ]
  },
  {
   "cell_type": "code",
   "execution_count": 85,
   "id": "810fc641",
   "metadata": {},
   "outputs": [
    {
     "data": {
      "text/plain": [
       "[<matplotlib.lines.Line2D at 0x178b41ae5e0>]"
      ]
     },
     "execution_count": 85,
     "metadata": {},
     "output_type": "execute_result"
    },
    {
     "data": {
      "image/png": "[encoded data removed]",
      "text/plain": [
       "<Figure size 432x288 with 1 Axes>"
      ]
     },
     "metadata": {
      "needs_background": "light"
     },
     "output_type": "display_data"
    }
   ],
   "source": [
    "#overfitting\n",
    "plt.figure(dpi=100)\n",
    "plt.title('Liear regression')\n",
    "plt.xlabel('Salary')\n",
    "plt.ylabel('Position')\n",
    "plt.plot(X,Y,'ob')\n",
    "plt.plot(X,pred5,'violet')"
   ]
  },
  {
   "cell_type": "code",
   "execution_count": 86,
   "id": "150e90a7",
   "metadata": {},
   "outputs": [
    {
     "name": "stdout",
     "output_type": "stream",
     "text": [
      "0.9999999999999479\n"
     ]
    },
    {
     "data": {
      "text/plain": [
       "[<matplotlib.lines.Line2D at 0x178b4186910>]"
      ]
     },
     "execution_count": 86,
     "metadata": {},
     "output_type": "execute_result"
    },
    {
     "data": {
      "image/png": "[encoded data removed]",
      "text/plain": [
       "<Figure size 600x400 with 1 Axes>"
      ]
     },
     "metadata": {
      "needs_background": "light"
     },
     "output_type": "display_data"
    }
   ],
   "source": [
    "#introducing higher degrees\n",
    "from sklearn.preprocessing import PolynomialFeatures\n",
    "poly=PolynomialFeatures(degree=9)\n",
    "X_poly6=poly.fit_transform(X)\n",
    "\n",
    "poly_regression6=LinearRegression()\n",
    "poly_regression6.fit(X_poly6,Y)\n",
    "print(poly_regression6.score(X_poly6,Y))\n",
    "pred6=poly_regression6.predict(X_poly6)\n",
    "pred5\n",
    "\n",
    "plt.figure(dpi=100)\n",
    "plt.title('Liear regression')\n",
    "plt.xlabel('Salary')\n",
    "plt.ylabel('Position')\n",
    "plt.plot(X,Y,'ob')\n",
    "plt.plot(X,pred5,'violet')"
   ]
  },
  {
   "cell_type": "code",
   "execution_count": null,
   "id": "f09f0bf5",
   "metadata": {},
   "outputs": [],
   "source": []
  },
  {
   "cell_type": "code",
   "execution_count": null,
   "id": "a5874d71",
   "metadata": {},
   "outputs": [],
   "source": [
    "#regresiin\n",
    "1.Logistic regression\n",
    "2.\n",
    "\n",
    "Regression evaluation metrics\n",
    "-accuracy of training data\n",
    "-1.mean absolute error:absolute doesnot take in consideration 1/N sumation |y-y^|\n",
    "    actual-predicted\n",
    "    error:wrong value is presicted\n",
    "-2.mean squareed error\n",
    "   square differnce between actual and predicted\n",
    "-3.Root Mean Squared Error\n",
    "  square root of sumation of(y-y^)^2/n\n",
    "-4.Root mean suares log error\n",
    "   square root of sumation of(log(ybasei+1)-(y+1^))^2\n",
    "-5.R Squared Error\n",
    "  R^2= 1-(SSRES/SSTOT)=1-sumation of(yi-yi^)^2/sumation of(yi-y^)^2"
   ]
  },
  {
   "cell_type": "code",
   "execution_count": 21,
   "id": "3f0598d2",
   "metadata": {},
   "outputs": [],
   "source": [
    "df=pd.read_excel(\"Salary.xlsx\")"
   ]
  },
  {
   "cell_type": "code",
   "execution_count": 22,
   "id": "e65655e9",
   "metadata": {},
   "outputs": [
    {
     "data": {
      "text/html": [
       "<div>\n",
       "<style scoped>\n",
       "    .dataframe tbody tr th:only-of-type {\n",
       "        vertical-align: middle;\n",
       "    }\n",
       "\n",
       "    .dataframe tbody tr th {\n",
       "        vertical-align: top;\n",
       "    }\n",
       "\n",
       "    .dataframe thead th {\n",
       "        text-align: right;\n",
       "    }\n",
       "</style>\n",
       "<table border=\"1\" class=\"dataframe\">\n",
       "  <thead>\n",
       "    <tr style=\"text-align: right;\">\n",
       "      <th></th>\n",
       "      <th>YearsExperience</th>\n",
       "      <th>Salary</th>\n",
       "      <th>Unnamed: 2</th>\n",
       "    </tr>\n",
       "  </thead>\n",
       "  <tbody>\n",
       "    <tr>\n",
       "      <th>0</th>\n",
       "      <td>1.1</td>\n",
       "      <td>39343</td>\n",
       "      <td>NaN</td>\n",
       "    </tr>\n",
       "    <tr>\n",
       "      <th>1</th>\n",
       "      <td>1.3</td>\n",
       "      <td>46205</td>\n",
       "      <td>NaN</td>\n",
       "    </tr>\n",
       "    <tr>\n",
       "      <th>2</th>\n",
       "      <td>1.5</td>\n",
       "      <td>37731</td>\n",
       "      <td>NaN</td>\n",
       "    </tr>\n",
       "    <tr>\n",
       "      <th>3</th>\n",
       "      <td>2.0</td>\n",
       "      <td>43525</td>\n",
       "      <td>NaN</td>\n",
       "    </tr>\n",
       "    <tr>\n",
       "      <th>4</th>\n",
       "      <td>2.2</td>\n",
       "      <td>39891</td>\n",
       "      <td>NaN</td>\n",
       "    </tr>\n",
       "    <tr>\n",
       "      <th>5</th>\n",
       "      <td>2.9</td>\n",
       "      <td>56642</td>\n",
       "      <td>NaN</td>\n",
       "    </tr>\n",
       "    <tr>\n",
       "      <th>6</th>\n",
       "      <td>3.0</td>\n",
       "      <td>60150</td>\n",
       "      <td>NaN</td>\n",
       "    </tr>\n",
       "    <tr>\n",
       "      <th>7</th>\n",
       "      <td>3.2</td>\n",
       "      <td>54445</td>\n",
       "      <td>NaN</td>\n",
       "    </tr>\n",
       "    <tr>\n",
       "      <th>8</th>\n",
       "      <td>3.2</td>\n",
       "      <td>64445</td>\n",
       "      <td>NaN</td>\n",
       "    </tr>\n",
       "    <tr>\n",
       "      <th>9</th>\n",
       "      <td>3.7</td>\n",
       "      <td>57189</td>\n",
       "      <td>NaN</td>\n",
       "    </tr>\n",
       "    <tr>\n",
       "      <th>10</th>\n",
       "      <td>3.9</td>\n",
       "      <td>63218</td>\n",
       "      <td>NaN</td>\n",
       "    </tr>\n",
       "    <tr>\n",
       "      <th>11</th>\n",
       "      <td>4.0</td>\n",
       "      <td>55794</td>\n",
       "      <td>NaN</td>\n",
       "    </tr>\n",
       "    <tr>\n",
       "      <th>12</th>\n",
       "      <td>4.0</td>\n",
       "      <td>56957</td>\n",
       "      <td>NaN</td>\n",
       "    </tr>\n",
       "    <tr>\n",
       "      <th>13</th>\n",
       "      <td>4.1</td>\n",
       "      <td>57081</td>\n",
       "      <td>NaN</td>\n",
       "    </tr>\n",
       "    <tr>\n",
       "      <th>14</th>\n",
       "      <td>4.5</td>\n",
       "      <td>61111</td>\n",
       "      <td>NaN</td>\n",
       "    </tr>\n",
       "    <tr>\n",
       "      <th>15</th>\n",
       "      <td>4.9</td>\n",
       "      <td>67938</td>\n",
       "      <td>NaN</td>\n",
       "    </tr>\n",
       "    <tr>\n",
       "      <th>16</th>\n",
       "      <td>5.1</td>\n",
       "      <td>66029</td>\n",
       "      <td>NaN</td>\n",
       "    </tr>\n",
       "    <tr>\n",
       "      <th>17</th>\n",
       "      <td>5.3</td>\n",
       "      <td>83088</td>\n",
       "      <td>NaN</td>\n",
       "    </tr>\n",
       "    <tr>\n",
       "      <th>18</th>\n",
       "      <td>5.9</td>\n",
       "      <td>81363</td>\n",
       "      <td>NaN</td>\n",
       "    </tr>\n",
       "    <tr>\n",
       "      <th>19</th>\n",
       "      <td>6.0</td>\n",
       "      <td>93940</td>\n",
       "      <td>NaN</td>\n",
       "    </tr>\n",
       "    <tr>\n",
       "      <th>20</th>\n",
       "      <td>6.8</td>\n",
       "      <td>91738</td>\n",
       "      <td>NaN</td>\n",
       "    </tr>\n",
       "    <tr>\n",
       "      <th>21</th>\n",
       "      <td>7.1</td>\n",
       "      <td>98273</td>\n",
       "      <td>NaN</td>\n",
       "    </tr>\n",
       "    <tr>\n",
       "      <th>22</th>\n",
       "      <td>7.9</td>\n",
       "      <td>101302</td>\n",
       "      <td>NaN</td>\n",
       "    </tr>\n",
       "    <tr>\n",
       "      <th>23</th>\n",
       "      <td>8.2</td>\n",
       "      <td>113812</td>\n",
       "      <td>NaN</td>\n",
       "    </tr>\n",
       "    <tr>\n",
       "      <th>24</th>\n",
       "      <td>8.7</td>\n",
       "      <td>109431</td>\n",
       "      <td>NaN</td>\n",
       "    </tr>\n",
       "    <tr>\n",
       "      <th>25</th>\n",
       "      <td>9.0</td>\n",
       "      <td>105582</td>\n",
       "      <td>NaN</td>\n",
       "    </tr>\n",
       "    <tr>\n",
       "      <th>26</th>\n",
       "      <td>9.5</td>\n",
       "      <td>116969</td>\n",
       "      <td>NaN</td>\n",
       "    </tr>\n",
       "    <tr>\n",
       "      <th>27</th>\n",
       "      <td>9.6</td>\n",
       "      <td>112635</td>\n",
       "      <td>NaN</td>\n",
       "    </tr>\n",
       "    <tr>\n",
       "      <th>28</th>\n",
       "      <td>10.3</td>\n",
       "      <td>122391</td>\n",
       "      <td>NaN</td>\n",
       "    </tr>\n",
       "    <tr>\n",
       "      <th>29</th>\n",
       "      <td>10.5</td>\n",
       "      <td>121872</td>\n",
       "      <td>NaN</td>\n",
       "    </tr>\n",
       "  </tbody>\n",
       "</table>\n",
       "</div>"
      ],
      "text/plain": [
       "    YearsExperience  Salary  Unnamed: 2\n",
       "0               1.1   39343         NaN\n",
       "1               1.3   46205         NaN\n",
       "2               1.5   37731         NaN\n",
       "3               2.0   43525         NaN\n",
       "4               2.2   39891         NaN\n",
       "5               2.9   56642         NaN\n",
       "6               3.0   60150         NaN\n",
       "7               3.2   54445         NaN\n",
       "8               3.2   64445         NaN\n",
       "9               3.7   57189         NaN\n",
       "10              3.9   63218         NaN\n",
       "11              4.0   55794         NaN\n",
       "12              4.0   56957         NaN\n",
       "13              4.1   57081         NaN\n",
       "14              4.5   61111         NaN\n",
       "15              4.9   67938         NaN\n",
       "16              5.1   66029         NaN\n",
       "17              5.3   83088         NaN\n",
       "18              5.9   81363         NaN\n",
       "19              6.0   93940         NaN\n",
       "20              6.8   91738         NaN\n",
       "21              7.1   98273         NaN\n",
       "22              7.9  101302         NaN\n",
       "23              8.2  113812         NaN\n",
       "24              8.7  109431         NaN\n",
       "25              9.0  105582         NaN\n",
       "26              9.5  116969         NaN\n",
       "27              9.6  112635         NaN\n",
       "28             10.3  122391         NaN\n",
       "29             10.5  121872         NaN"
      ]
     },
     "execution_count": 22,
     "metadata": {},
     "output_type": "execute_result"
    }
   ],
   "source": [
    "df"
   ]
  },
  {
   "cell_type": "code",
   "execution_count": 28,
   "id": "83c5f083",
   "metadata": {},
   "outputs": [
    {
     "data": {
      "text/plain": [
       "array([[ 1.1],\n",
       "       [ 1.3],\n",
       "       [ 1.5],\n",
       "       [ 2. ],\n",
       "       [ 2.2],\n",
       "       [ 2.9],\n",
       "       [ 3. ],\n",
       "       [ 3.2],\n",
       "       [ 3.2],\n",
       "       [ 3.7],\n",
       "       [ 3.9],\n",
       "       [ 4. ],\n",
       "       [ 4. ],\n",
       "       [ 4.1],\n",
       "       [ 4.5],\n",
       "       [ 4.9],\n",
       "       [ 5.1],\n",
       "       [ 5.3],\n",
       "       [ 5.9],\n",
       "       [ 6. ],\n",
       "       [ 6.8],\n",
       "       [ 7.1],\n",
       "       [ 7.9],\n",
       "       [ 8.2],\n",
       "       [ 8.7],\n",
       "       [ 9. ],\n",
       "       [ 9.5],\n",
       "       [ 9.6],\n",
       "       [10.3],\n",
       "       [10.5]])"
      ]
     },
     "execution_count": 28,
     "metadata": {},
     "output_type": "execute_result"
    }
   ],
   "source": [
    "#independent variable\n",
    "X=df.iloc[:,:-2].values\n",
    "#X=df[[\"YearsExperience\"]]\n",
    "X\n",
    "#Y=pd.iloc[:,:-1]"
   ]
  },
  {
   "cell_type": "code",
   "execution_count": 27,
   "id": "72d01c34",
   "metadata": {},
   "outputs": [
    {
     "data": {
      "text/plain": [
       "array([ 39343,  46205,  37731,  43525,  39891,  56642,  60150,  54445,\n",
       "        64445,  57189,  63218,  55794,  56957,  57081,  61111,  67938,\n",
       "        66029,  83088,  81363,  93940,  91738,  98273, 101302, 113812,\n",
       "       109431, 105582, 116969, 112635, 122391, 121872], dtype=int64)"
      ]
     },
     "execution_count": 27,
     "metadata": {},
     "output_type": "execute_result"
    }
   ],
   "source": [
    "#independent variable\n",
    "Y=df.iloc[:,-2].values\n",
    "#y=df[[\"Salary\"]].values\n",
    "Y\n",
    "#Y=pd.iloc[:,-2]"
   ]
  },
  {
   "cell_type": "code",
   "execution_count": 30,
   "id": "3cfb46ca",
   "metadata": {},
   "outputs": [],
   "source": [
    "#splitting data \n",
    "from sklearn.model_selection import train_test_split\n",
    "X_train,X_test,Y_train,Y_test=train_test_split(X,Y,test_size=0.3)"
   ]
  },
  {
   "cell_type": "code",
   "execution_count": 31,
   "id": "042d9ea4",
   "metadata": {},
   "outputs": [
    {
     "data": {
      "text/plain": [
       "LinearRegression()"
      ]
     },
     "execution_count": 31,
     "metadata": {},
     "output_type": "execute_result"
    }
   ],
   "source": [
    "from sklearn.linear_model import LinearRegression\n",
    "regression=LinearRegression()\n",
    "regression.fit(X_train,Y_train)"
   ]
  },
  {
   "cell_type": "code",
   "execution_count": 32,
   "id": "0387f89b",
   "metadata": {},
   "outputs": [],
   "source": [
    "Y_pred=regression.predict(X_test)"
   ]
  },
  {
   "cell_type": "code",
   "execution_count": 34,
   "id": "4818b8a7",
   "metadata": {},
   "outputs": [
    {
     "data": {
      "text/plain": [
       "5194.53743341607"
      ]
     },
     "execution_count": 34,
     "metadata": {},
     "output_type": "execute_result"
    }
   ],
   "source": [
    "#Mean absolute error\n",
    "from sklearn.metrics import mean_absolute_error\n",
    "mean_absolute_error(Y_pred,Y_test)"
   ]
  },
  {
   "cell_type": "code",
   "execution_count": 35,
   "id": "65cf615e",
   "metadata": {},
   "outputs": [
    {
     "data": {
      "text/plain": [
       "37471893.184096545"
      ]
     },
     "execution_count": 35,
     "metadata": {},
     "output_type": "execute_result"
    }
   ],
   "source": [
    "#mean Square Error \n",
    "from sklearn.metrics import mean_squared_error\n",
    "mean_squared_error(Y_pred,Y_test)"
   ]
  },
  {
   "cell_type": "code",
   "execution_count": 43,
   "id": "0251cbeb",
   "metadata": {},
   "outputs": [
    {
     "data": {
      "text/plain": [
       "6121.429014870347"
      ]
     },
     "execution_count": 43,
     "metadata": {},
     "output_type": "execute_result"
    }
   ],
   "source": [
    "#root mean squared value\n",
    "from sklearn.metrics import mean_squared_error\n",
    "mean_squared_error(Y_pred,Y_test,squared=False)"
   ]
  },
  {
   "cell_type": "code",
   "execution_count": 40,
   "id": "b7600e6b",
   "metadata": {},
   "outputs": [
    {
     "data": {
      "text/plain": [
       "0.009129962310871789"
      ]
     },
     "execution_count": 40,
     "metadata": {},
     "output_type": "execute_result"
    }
   ],
   "source": [
    "from sklearn.metrics import mean_squared_log_error\n",
    "mean_squared_log_error(Y_pred,Y_test)"
   ]
  },
  {
   "cell_type": "code",
   "execution_count": 44,
   "id": "b5dd2092",
   "metadata": {},
   "outputs": [
    {
     "data": {
      "text/plain": [
       "0.9566455741901125"
      ]
     },
     "execution_count": 44,
     "metadata": {},
     "output_type": "execute_result"
    }
   ],
   "source": [
    "#R squared error\n",
    "regression.score(X_test,Y_test)"
   ]
  },
  {
   "cell_type": "code",
   "execution_count": 45,
   "id": "615393b7",
   "metadata": {},
   "outputs": [
    {
     "data": {
      "text/plain": [
       "0.95609593660571"
      ]
     },
     "execution_count": 45,
     "metadata": {},
     "output_type": "execute_result"
    }
   ],
   "source": [
    "#R squared error it or to upper one\n",
    "from sklearn.metrics import r2_score\n",
    "r2_score(Y_pred,Y_test)"
   ]
  },
  {
   "cell_type": "code",
   "execution_count": null,
   "id": "12fa2b09",
   "metadata": {},
   "outputs": [],
   "source": [
    "Classification\n",
    "-Categorising observations into different categories\n",
    "-Dividing dataset into differnt categories/groups by adding label\n",
    "-predictive analysis\n",
    "eg.Census population"
   ]
  },
  {
   "cell_type": "code",
   "execution_count": null,
   "id": "207ff3a5",
   "metadata": {},
   "outputs": [],
   "source": [
    "Experiment:1Trail\n",
    "    Any process that can ne repeated\n",
    "    have possible outcomes\n",
    "Outcome\n",
    "-Result of an experiment\n",
    "sample space\n",
    "-all possible out comes\n",
    "event-subset of sample space"
   ]
  },
  {
   "cell_type": "code",
   "execution_count": null,
   "id": "12b83871",
   "metadata": {},
   "outputs": [],
   "source": []
  },
  {
   "cell_type": "code",
   "execution_count": null,
   "id": "7d77db2b",
   "metadata": {},
   "outputs": [],
   "source": []
  }
 ],
 "metadata": {
  "kernelspec": {
   "display_name": "Python 3 (ipykernel)",
   "language": "python",
   "name": "python3"
  },
  "language_info": {
   "codemirror_mode": {
    "name": "ipython",
    "version": 3
   },
   "file_extension": ".py",
   "mimetype": "text/x-python",
   "name": "python",
   "nbconvert_exporter": "python",
   "pygments_lexer": "ipython3",
   "version": "3.9.7"
  }
 },
 "nbformat": 4,
 "nbformat_minor": 5
}
